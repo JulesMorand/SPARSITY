{
 "cells": [
  {
   "cell_type": "code",
   "execution_count": null,
   "id": "fafb10e1",
   "metadata": {},
   "outputs": [],
   "source": [
    "using Agents\n",
    "space = GridSpaceSingle((10, 10,10); periodic = false,metric =:euclidian)\n",
    "\n",
    "@agent Cell{T} GridAgent{3} begin\n",
    "    x::Float64\n",
    "    y::Float64\n",
    "    z::Float64\n",
    "    r::Float64\n",
    "end\n",
    "model=AgentBasedModel(Cell , space; ) "
   ]
  },
  {
   "cell_type": "code",
   "execution_count": 3,
   "id": "4de46b3f",
   "metadata": {},
   "outputs": [
    {
     "ename": "LoadError",
     "evalue": "MethodError: no method matching DataFrame(::DataFrame; nms::Vector{String})\n\n\u001b[0mClosest candidates are:\n\u001b[0m  DataFrame(::DataFrame; copycols)\u001b[91m got unsupported keyword argument \"nms\"\u001b[39m\n\u001b[0m\u001b[90m   @\u001b[39m \u001b[35mDataFrames\u001b[39m \u001b[90m~/.julia/packages/DataFrames/JZ7x5/src/dataframe/\u001b[39m\u001b[90m\u001b[4mdataframe.jl:241\u001b[24m\u001b[39m\n\u001b[0m  DataFrame(::T; copycols) where T\u001b[91m got unsupported keyword argument \"nms\"\u001b[39m\n\u001b[0m\u001b[90m   @\u001b[39m \u001b[35mDataFrames\u001b[39m \u001b[90m~/.julia/packages/DataFrames/JZ7x5/src/other/\u001b[39m\u001b[90m\u001b[4mtables.jl:48\u001b[24m\u001b[39m\n\u001b[0m  DataFrame(\u001b[91m::SubDataFrame\u001b[39m; copycols)\u001b[91m got unsupported keyword argument \"nms\"\u001b[39m\n\u001b[0m\u001b[90m   @\u001b[39m \u001b[35mDataFrames\u001b[39m \u001b[90m~/.julia/packages/DataFrames/JZ7x5/src/subdataframe/\u001b[39m\u001b[90m\u001b[4msubdataframe.jl:296\u001b[24m\u001b[39m\n\u001b[0m  ...\n",
     "output_type": "error",
     "traceback": [
      "MethodError: no method matching DataFrame(::DataFrame; nms::Vector{String})\n\n\u001b[0mClosest candidates are:\n\u001b[0m  DataFrame(::DataFrame; copycols)\u001b[91m got unsupported keyword argument \"nms\"\u001b[39m\n\u001b[0m\u001b[90m   @\u001b[39m \u001b[35mDataFrames\u001b[39m \u001b[90m~/.julia/packages/DataFrames/JZ7x5/src/dataframe/\u001b[39m\u001b[90m\u001b[4mdataframe.jl:241\u001b[24m\u001b[39m\n\u001b[0m  DataFrame(::T; copycols) where T\u001b[91m got unsupported keyword argument \"nms\"\u001b[39m\n\u001b[0m\u001b[90m   @\u001b[39m \u001b[35mDataFrames\u001b[39m \u001b[90m~/.julia/packages/DataFrames/JZ7x5/src/other/\u001b[39m\u001b[90m\u001b[4mtables.jl:48\u001b[24m\u001b[39m\n\u001b[0m  DataFrame(\u001b[91m::SubDataFrame\u001b[39m; copycols)\u001b[91m got unsupported keyword argument \"nms\"\u001b[39m\n\u001b[0m\u001b[90m   @\u001b[39m \u001b[35mDataFrames\u001b[39m \u001b[90m~/.julia/packages/DataFrames/JZ7x5/src/subdataframe/\u001b[39m\u001b[90m\u001b[4msubdataframe.jl:296\u001b[24m\u001b[39m\n\u001b[0m  ...\n",
      "",
      "Stacktrace:",
      " [1] kwerr(::@NamedTuple{nms::Vector{String}}, ::Type, ::DataFrame)",
      "   @ Base ./error.jl:165",
      " [2] top-level scope",
      "   @ In[3]:4"
     ]
    }
   ],
   "source": [
    "using DataFrames,CSV\n",
    "df=DataFrame(CSV.File(\"../dem.csv\"))\n",
    "nms = [\"x\", \"y\", \"z\"]\n",
    "df=DataFrame(df;nms)\n",
    "df"
   ]
  },
  {
   "cell_type": "code",
   "execution_count": null,
   "id": "8ea19fc8",
   "metadata": {},
   "outputs": [],
   "source": []
  }
 ],
 "metadata": {
  "@webio": {
   "lastCommId": null,
   "lastKernelId": null
  },
  "kernelspec": {
   "display_name": "Julia 1.10.0",
   "language": "julia",
   "name": "julia-1.10"
  },
  "language_info": {
   "file_extension": ".jl",
   "mimetype": "application/julia",
   "name": "julia",
   "version": "1.10.0"
  }
 },
 "nbformat": 4,
 "nbformat_minor": 5
}
